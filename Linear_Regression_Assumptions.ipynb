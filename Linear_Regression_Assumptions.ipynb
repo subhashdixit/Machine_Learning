{
  "cells": [
    {
      "cell_type": "markdown",
      "source": [
        "# **Assumptions of Linear Regression with practical Implementation**"
      ],
      "metadata": {
        "id": "9l6FOe5KwLZq"
      },
      "id": "9l6FOe5KwLZq"
    },
    {
      "cell_type": "markdown",
      "source": [
        "**Import required libraries**"
      ],
      "metadata": {
        "id": "tTdnZ6v1wHxb"
      },
      "id": "tTdnZ6v1wHxb"
    },
    {
      "cell_type": "code",
      "execution_count": 1,
      "id": "78fff59a",
      "metadata": {
        "id": "78fff59a"
      },
      "outputs": [],
      "source": [
        "import pandas as pd\n",
        "import numpy as np\n",
        "import matplotlib.pyplot as plt\n",
        "import seaborn as sns"
      ]
    },
    {
      "cell_type": "markdown",
      "source": [
        "**Read the data**"
      ],
      "metadata": {
        "id": "OO_IZKZ0w6aF"
      },
      "id": "OO_IZKZ0w6aF"
    },
    {
      "cell_type": "code",
      "execution_count": 2,
      "id": "213ee4db",
      "metadata": {
        "id": "213ee4db"
      },
      "outputs": [],
      "source": [
        "url = \"https://raw.githubusercontent.com/subhashdixit/Machine_Learning/main/datasets/data_linear_regression_assumptions.csv\"\n",
        "df = pd.read_csv(url)"
      ]
    },
    {
      "cell_type": "markdown",
      "source": [
        "**Show 5 elements of the dataset**"
      ],
      "metadata": {
        "id": "G5KVL_b3w8qL"
      },
      "id": "G5KVL_b3w8qL"
    },
    {
      "cell_type": "code",
      "execution_count": 3,
      "id": "b83275b9",
      "metadata": {
        "id": "b83275b9",
        "outputId": "0fb07616-729c-4496-b983-addd9b4613a3",
        "colab": {
          "base_uri": "https://localhost:8080/",
          "height": 206
        }
      },
      "outputs": [
        {
          "output_type": "execute_result",
          "data": {
            "text/plain": [
              "          A         B         C     target\n",
              "0 -0.570563  1.420342  0.495580  -9.763182\n",
              "1 -0.990563  0.556965  1.045064 -24.029355\n",
              "2 -0.674728  0.150617  1.774645  45.616421\n",
              "3  0.388250 -0.387127 -0.110229  34.135737\n",
              "4  1.167882 -0.024104  0.145063  86.663647"
            ],
            "text/html": [
              "\n",
              "  <div id=\"df-45627eac-c737-41ad-84f5-bd61e110ea7d\">\n",
              "    <div class=\"colab-df-container\">\n",
              "      <div>\n",
              "<style scoped>\n",
              "    .dataframe tbody tr th:only-of-type {\n",
              "        vertical-align: middle;\n",
              "    }\n",
              "\n",
              "    .dataframe tbody tr th {\n",
              "        vertical-align: top;\n",
              "    }\n",
              "\n",
              "    .dataframe thead th {\n",
              "        text-align: right;\n",
              "    }\n",
              "</style>\n",
              "<table border=\"1\" class=\"dataframe\">\n",
              "  <thead>\n",
              "    <tr style=\"text-align: right;\">\n",
              "      <th></th>\n",
              "      <th>A</th>\n",
              "      <th>B</th>\n",
              "      <th>C</th>\n",
              "      <th>target</th>\n",
              "    </tr>\n",
              "  </thead>\n",
              "  <tbody>\n",
              "    <tr>\n",
              "      <th>0</th>\n",
              "      <td>-0.570563</td>\n",
              "      <td>1.420342</td>\n",
              "      <td>0.495580</td>\n",
              "      <td>-9.763182</td>\n",
              "    </tr>\n",
              "    <tr>\n",
              "      <th>1</th>\n",
              "      <td>-0.990563</td>\n",
              "      <td>0.556965</td>\n",
              "      <td>1.045064</td>\n",
              "      <td>-24.029355</td>\n",
              "    </tr>\n",
              "    <tr>\n",
              "      <th>2</th>\n",
              "      <td>-0.674728</td>\n",
              "      <td>0.150617</td>\n",
              "      <td>1.774645</td>\n",
              "      <td>45.616421</td>\n",
              "    </tr>\n",
              "    <tr>\n",
              "      <th>3</th>\n",
              "      <td>0.388250</td>\n",
              "      <td>-0.387127</td>\n",
              "      <td>-0.110229</td>\n",
              "      <td>34.135737</td>\n",
              "    </tr>\n",
              "    <tr>\n",
              "      <th>4</th>\n",
              "      <td>1.167882</td>\n",
              "      <td>-0.024104</td>\n",
              "      <td>0.145063</td>\n",
              "      <td>86.663647</td>\n",
              "    </tr>\n",
              "  </tbody>\n",
              "</table>\n",
              "</div>\n",
              "      <button class=\"colab-df-convert\" onclick=\"convertToInteractive('df-45627eac-c737-41ad-84f5-bd61e110ea7d')\"\n",
              "              title=\"Convert this dataframe to an interactive table.\"\n",
              "              style=\"display:none;\">\n",
              "        \n",
              "  <svg xmlns=\"http://www.w3.org/2000/svg\" height=\"24px\"viewBox=\"0 0 24 24\"\n",
              "       width=\"24px\">\n",
              "    <path d=\"M0 0h24v24H0V0z\" fill=\"none\"/>\n",
              "    <path d=\"M18.56 5.44l.94 2.06.94-2.06 2.06-.94-2.06-.94-.94-2.06-.94 2.06-2.06.94zm-11 1L8.5 8.5l.94-2.06 2.06-.94-2.06-.94L8.5 2.5l-.94 2.06-2.06.94zm10 10l.94 2.06.94-2.06 2.06-.94-2.06-.94-.94-2.06-.94 2.06-2.06.94z\"/><path d=\"M17.41 7.96l-1.37-1.37c-.4-.4-.92-.59-1.43-.59-.52 0-1.04.2-1.43.59L10.3 9.45l-7.72 7.72c-.78.78-.78 2.05 0 2.83L4 21.41c.39.39.9.59 1.41.59.51 0 1.02-.2 1.41-.59l7.78-7.78 2.81-2.81c.8-.78.8-2.07 0-2.86zM5.41 20L4 18.59l7.72-7.72 1.47 1.35L5.41 20z\"/>\n",
              "  </svg>\n",
              "      </button>\n",
              "      \n",
              "  <style>\n",
              "    .colab-df-container {\n",
              "      display:flex;\n",
              "      flex-wrap:wrap;\n",
              "      gap: 12px;\n",
              "    }\n",
              "\n",
              "    .colab-df-convert {\n",
              "      background-color: #E8F0FE;\n",
              "      border: none;\n",
              "      border-radius: 50%;\n",
              "      cursor: pointer;\n",
              "      display: none;\n",
              "      fill: #1967D2;\n",
              "      height: 32px;\n",
              "      padding: 0 0 0 0;\n",
              "      width: 32px;\n",
              "    }\n",
              "\n",
              "    .colab-df-convert:hover {\n",
              "      background-color: #E2EBFA;\n",
              "      box-shadow: 0px 1px 2px rgba(60, 64, 67, 0.3), 0px 1px 3px 1px rgba(60, 64, 67, 0.15);\n",
              "      fill: #174EA6;\n",
              "    }\n",
              "\n",
              "    [theme=dark] .colab-df-convert {\n",
              "      background-color: #3B4455;\n",
              "      fill: #D2E3FC;\n",
              "    }\n",
              "\n",
              "    [theme=dark] .colab-df-convert:hover {\n",
              "      background-color: #434B5C;\n",
              "      box-shadow: 0px 1px 3px 1px rgba(0, 0, 0, 0.15);\n",
              "      filter: drop-shadow(0px 1px 2px rgba(0, 0, 0, 0.3));\n",
              "      fill: #FFFFFF;\n",
              "    }\n",
              "  </style>\n",
              "\n",
              "      <script>\n",
              "        const buttonEl =\n",
              "          document.querySelector('#df-45627eac-c737-41ad-84f5-bd61e110ea7d button.colab-df-convert');\n",
              "        buttonEl.style.display =\n",
              "          google.colab.kernel.accessAllowed ? 'block' : 'none';\n",
              "\n",
              "        async function convertToInteractive(key) {\n",
              "          const element = document.querySelector('#df-45627eac-c737-41ad-84f5-bd61e110ea7d');\n",
              "          const dataTable =\n",
              "            await google.colab.kernel.invokeFunction('convertToInteractive',\n",
              "                                                     [key], {});\n",
              "          if (!dataTable) return;\n",
              "\n",
              "          const docLinkHtml = 'Like what you see? Visit the ' +\n",
              "            '<a target=\"_blank\" href=https://colab.research.google.com/notebooks/data_table.ipynb>data table notebook</a>'\n",
              "            + ' to learn more about interactive tables.';\n",
              "          element.innerHTML = '';\n",
              "          dataTable['output_type'] = 'display_data';\n",
              "          await google.colab.output.renderOutput(dataTable, element);\n",
              "          const docLink = document.createElement('div');\n",
              "          docLink.innerHTML = docLinkHtml;\n",
              "          element.appendChild(docLink);\n",
              "        }\n",
              "      </script>\n",
              "    </div>\n",
              "  </div>\n",
              "  "
            ]
          },
          "metadata": {},
          "execution_count": 3
        }
      ],
      "source": [
        "df.head()"
      ]
    },
    {
      "cell_type": "markdown",
      "source": [
        "**Segregating Independent and Dependent features**"
      ],
      "metadata": {
        "id": "AUnfGcPnyfX3"
      },
      "id": "AUnfGcPnyfX3"
    },
    {
      "cell_type": "code",
      "execution_count": 4,
      "id": "88efd64f",
      "metadata": {
        "id": "88efd64f"
      },
      "outputs": [],
      "source": [
        "X = df.iloc[:,0:3].values\n",
        "y = df.iloc[:,-1].values"
      ]
    },
    {
      "cell_type": "markdown",
      "source": [
        "**Train Test Split**"
      ],
      "metadata": {
        "id": "1ylkkxcRymyh"
      },
      "id": "1ylkkxcRymyh"
    },
    {
      "cell_type": "code",
      "execution_count": 5,
      "id": "a923b559",
      "metadata": {
        "id": "a923b559"
      },
      "outputs": [],
      "source": [
        "from sklearn.model_selection import train_test_split\n",
        "X_train,X_test,y_train,y_test = train_test_split(X,y,test_size=0.3,random_state=1)"
      ]
    },
    {
      "cell_type": "markdown",
      "source": [
        "## **Model Creation - Linear Regression**"
      ],
      "metadata": {
        "id": "ePcfIQffyqYy"
      },
      "id": "ePcfIQffyqYy"
    },
    {
      "cell_type": "code",
      "execution_count": 6,
      "id": "72d0b3ad",
      "metadata": {
        "id": "72d0b3ad",
        "outputId": "71c80fba-59d5-4728-9cf9-88655df739ca",
        "colab": {
          "base_uri": "https://localhost:8080/"
        }
      },
      "outputs": [
        {
          "output_type": "execute_result",
          "data": {
            "text/plain": [
              "LinearRegression()"
            ]
          },
          "metadata": {},
          "execution_count": 6
        }
      ],
      "source": [
        "from sklearn.linear_model import LinearRegression\n",
        "model = LinearRegression()\n",
        "model.fit(X_train,y_train)"
      ]
    },
    {
      "cell_type": "markdown",
      "source": [
        "**Residual Calculation**"
      ],
      "metadata": {
        "id": "SehLWWd6xCEY"
      },
      "id": "SehLWWd6xCEY"
    },
    {
      "cell_type": "code",
      "execution_count": 7,
      "id": "173fdcb7",
      "metadata": {
        "id": "173fdcb7"
      },
      "outputs": [],
      "source": [
        "y_pred = model.predict(X_test)\n",
        "residual = y_test - y_pred"
      ]
    },
    {
      "cell_type": "markdown",
      "source": [
        "## **Verification of all the Linear Regression Assumptions**"
      ],
      "metadata": {
        "id": "70lLk6hj0xKu"
      },
      "id": "70lLk6hj0xKu"
    },
    {
      "cell_type": "markdown",
      "id": "dc42b1a7",
      "metadata": {
        "id": "dc42b1a7"
      },
      "source": [
        "### **1. Linear Relationship**\n",
        "*  The independent varoiables should be in a linear relation with the dependent variables"
      ]
    },
    {
      "cell_type": "code",
      "execution_count": 8,
      "id": "099534fd",
      "metadata": {
        "id": "099534fd",
        "outputId": "0c17f677-1328-492c-c7e7-990efce1818b",
        "colab": {
          "base_uri": "https://localhost:8080/",
          "height": 455
        }
      },
      "outputs": [
        {
          "output_type": "stream",
          "name": "stderr",
          "text": [
            "/usr/local/lib/python3.7/dist-packages/seaborn/_decorators.py:43: FutureWarning: Pass the following variables as keyword args: x, y. From version 0.12, the only valid positional argument will be `data`, and passing other arguments without an explicit keyword will result in an error or misinterpretation.\n",
            "  FutureWarning\n",
            "/usr/local/lib/python3.7/dist-packages/seaborn/_decorators.py:43: FutureWarning: Pass the following variables as keyword args: x, y. From version 0.12, the only valid positional argument will be `data`, and passing other arguments without an explicit keyword will result in an error or misinterpretation.\n",
            "  FutureWarning\n",
            "/usr/local/lib/python3.7/dist-packages/seaborn/_decorators.py:43: FutureWarning: Pass the following variables as keyword args: x, y. From version 0.12, the only valid positional argument will be `data`, and passing other arguments without an explicit keyword will result in an error or misinterpretation.\n",
            "  FutureWarning\n"
          ]
        },
        {
          "output_type": "display_data",
          "data": {
            "text/plain": [
              "<Figure size 1440x360 with 3 Axes>"
            ],
            "image/png": "[encoded data removed]"
          },
          "metadata": {
            "needs_background": "light"
          }
        }
      ],
      "source": [
        "fig, ax = plt.subplots(ncols=3, nrows=1, figsize=(20,5))\n",
        "index = 0\n",
        "ax = ax.flatten()\n",
        "for col, value in df.items():\n",
        "  sns.scatterplot(df[col], df['target'], ax=ax[index])\n",
        " \n",
        "  index += 1\n",
        "  if index == 3:\n",
        "    break\n",
        "plt.tight_layout(pad=0.5, w_pad=0.7, h_pad=5.0)"
      ]
    },
    {
      "cell_type": "markdown",
      "id": "f832ceb8",
      "metadata": {
        "id": "f832ceb8"
      },
      "source": [
        "### **2. Multicollinearity**\n",
        "*  No multi-collinearity in independent variables"
      ]
    },
    {
      "cell_type": "markdown",
      "source": [
        "**VIF Check**"
      ],
      "metadata": {
        "id": "R_B1vB7k0uKj"
      },
      "id": "R_B1vB7k0uKj"
    },
    {
      "cell_type": "code",
      "execution_count": 9,
      "id": "3ab90e75",
      "metadata": {
        "id": "3ab90e75",
        "colab": {
          "base_uri": "https://localhost:8080/",
          "height": 81
        },
        "outputId": "bbd3967b-a72a-4774-e900-976f8b6270f6"
      },
      "outputs": [
        {
          "output_type": "execute_result",
          "data": {
            "text/plain": [
              "            A         B        C\n",
              "vif  1.010326  1.009871  1.01395"
            ],
            "text/html": [
              "\n",
              "  <div id=\"df-16795f56-f2a7-45c2-b91d-33b8df168b15\">\n",
              "    <div class=\"colab-df-container\">\n",
              "      <div>\n",
              "<style scoped>\n",
              "    .dataframe tbody tr th:only-of-type {\n",
              "        vertical-align: middle;\n",
              "    }\n",
              "\n",
              "    .dataframe tbody tr th {\n",
              "        vertical-align: top;\n",
              "    }\n",
              "\n",
              "    .dataframe thead th {\n",
              "        text-align: right;\n",
              "    }\n",
              "</style>\n",
              "<table border=\"1\" class=\"dataframe\">\n",
              "  <thead>\n",
              "    <tr style=\"text-align: right;\">\n",
              "      <th></th>\n",
              "      <th>A</th>\n",
              "      <th>B</th>\n",
              "      <th>C</th>\n",
              "    </tr>\n",
              "  </thead>\n",
              "  <tbody>\n",
              "    <tr>\n",
              "      <th>vif</th>\n",
              "      <td>1.010326</td>\n",
              "      <td>1.009871</td>\n",
              "      <td>1.01395</td>\n",
              "    </tr>\n",
              "  </tbody>\n",
              "</table>\n",
              "</div>\n",
              "      <button class=\"colab-df-convert\" onclick=\"convertToInteractive('df-16795f56-f2a7-45c2-b91d-33b8df168b15')\"\n",
              "              title=\"Convert this dataframe to an interactive table.\"\n",
              "              style=\"display:none;\">\n",
              "        \n",
              "  <svg xmlns=\"http://www.w3.org/2000/svg\" height=\"24px\"viewBox=\"0 0 24 24\"\n",
              "       width=\"24px\">\n",
              "    <path d=\"M0 0h24v24H0V0z\" fill=\"none\"/>\n",
              "    <path d=\"M18.56 5.44l.94 2.06.94-2.06 2.06-.94-2.06-.94-.94-2.06-.94 2.06-2.06.94zm-11 1L8.5 8.5l.94-2.06 2.06-.94-2.06-.94L8.5 2.5l-.94 2.06-2.06.94zm10 10l.94 2.06.94-2.06 2.06-.94-2.06-.94-.94-2.06-.94 2.06-2.06.94z\"/><path d=\"M17.41 7.96l-1.37-1.37c-.4-.4-.92-.59-1.43-.59-.52 0-1.04.2-1.43.59L10.3 9.45l-7.72 7.72c-.78.78-.78 2.05 0 2.83L4 21.41c.39.39.9.59 1.41.59.51 0 1.02-.2 1.41-.59l7.78-7.78 2.81-2.81c.8-.78.8-2.07 0-2.86zM5.41 20L4 18.59l7.72-7.72 1.47 1.35L5.41 20z\"/>\n",
              "  </svg>\n",
              "      </button>\n",
              "      \n",
              "  <style>\n",
              "    .colab-df-container {\n",
              "      display:flex;\n",
              "      flex-wrap:wrap;\n",
              "      gap: 12px;\n",
              "    }\n",
              "\n",
              "    .colab-df-convert {\n",
              "      background-color: #E8F0FE;\n",
              "      border: none;\n",
              "      border-radius: 50%;\n",
              "      cursor: pointer;\n",
              "      display: none;\n",
              "      fill: #1967D2;\n",
              "      height: 32px;\n",
              "      padding: 0 0 0 0;\n",
              "      width: 32px;\n",
              "    }\n",
              "\n",
              "    .colab-df-convert:hover {\n",
              "      background-color: #E2EBFA;\n",
              "      box-shadow: 0px 1px 2px rgba(60, 64, 67, 0.3), 0px 1px 3px 1px rgba(60, 64, 67, 0.15);\n",
              "      fill: #174EA6;\n",
              "    }\n",
              "\n",
              "    [theme=dark] .colab-df-convert {\n",
              "      background-color: #3B4455;\n",
              "      fill: #D2E3FC;\n",
              "    }\n",
              "\n",
              "    [theme=dark] .colab-df-convert:hover {\n",
              "      background-color: #434B5C;\n",
              "      box-shadow: 0px 1px 3px 1px rgba(0, 0, 0, 0.15);\n",
              "      filter: drop-shadow(0px 1px 2px rgba(0, 0, 0, 0.3));\n",
              "      fill: #FFFFFF;\n",
              "    }\n",
              "  </style>\n",
              "\n",
              "      <script>\n",
              "        const buttonEl =\n",
              "          document.querySelector('#df-16795f56-f2a7-45c2-b91d-33b8df168b15 button.colab-df-convert');\n",
              "        buttonEl.style.display =\n",
              "          google.colab.kernel.accessAllowed ? 'block' : 'none';\n",
              "\n",
              "        async function convertToInteractive(key) {\n",
              "          const element = document.querySelector('#df-16795f56-f2a7-45c2-b91d-33b8df168b15');\n",
              "          const dataTable =\n",
              "            await google.colab.kernel.invokeFunction('convertToInteractive',\n",
              "                                                     [key], {});\n",
              "          if (!dataTable) return;\n",
              "\n",
              "          const docLinkHtml = 'Like what you see? Visit the ' +\n",
              "            '<a target=\"_blank\" href=https://colab.research.google.com/notebooks/data_table.ipynb>data table notebook</a>'\n",
              "            + ' to learn more about interactive tables.';\n",
              "          element.innerHTML = '';\n",
              "          dataTable['output_type'] = 'display_data';\n",
              "          await google.colab.output.renderOutput(dataTable, element);\n",
              "          const docLink = document.createElement('div');\n",
              "          docLink.innerHTML = docLinkHtml;\n",
              "          element.appendChild(docLink);\n",
              "        }\n",
              "      </script>\n",
              "    </div>\n",
              "  </div>\n",
              "  "
            ]
          },
          "metadata": {},
          "execution_count": 9
        }
      ],
      "source": [
        "from statsmodels.stats.outliers_influence import variance_inflation_factor\n",
        "vif = []\n",
        "for i in range(X_train.shape[1]):\n",
        "    vif.append(variance_inflation_factor(X_train, i))\n",
        "pd.DataFrame({'vif': vif}, index=df.columns[0:3]).T"
      ]
    },
    {
      "cell_type": "markdown",
      "source": [
        "**Observation:**\n",
        "* VIF values shhould be less than 5"
      ],
      "metadata": {
        "id": "PC_28uP044wE"
      },
      "id": "PC_28uP044wE"
    },
    {
      "cell_type": "markdown",
      "source": [
        "**Correlation Check**"
      ],
      "metadata": {
        "id": "laqQpCZ01Awr"
      },
      "id": "laqQpCZ01Awr"
    },
    {
      "cell_type": "code",
      "source": [
        "df.iloc[:,0:3].corr()"
      ],
      "metadata": {
        "colab": {
          "base_uri": "https://localhost:8080/",
          "height": 143
        },
        "id": "99oL0vMO0fKU",
        "outputId": "0952bb66-8def-4fd7-f760-900baa8f93aa"
      },
      "id": "99oL0vMO0fKU",
      "execution_count": 10,
      "outputs": [
        {
          "output_type": "execute_result",
          "data": {
            "text/plain": [
              "          A         B         C\n",
              "A  1.000000 -0.001055  0.049286\n",
              "B -0.001055  1.000000  0.060387\n",
              "C  0.049286  0.060387  1.000000"
            ],
            "text/html": [
              "\n",
              "  <div id=\"df-2c1e1d95-0895-43a3-bed2-bec6ef42d627\">\n",
              "    <div class=\"colab-df-container\">\n",
              "      <div>\n",
              "<style scoped>\n",
              "    .dataframe tbody tr th:only-of-type {\n",
              "        vertical-align: middle;\n",
              "    }\n",
              "\n",
              "    .dataframe tbody tr th {\n",
              "        vertical-align: top;\n",
              "    }\n",
              "\n",
              "    .dataframe thead th {\n",
              "        text-align: right;\n",
              "    }\n",
              "</style>\n",
              "<table border=\"1\" class=\"dataframe\">\n",
              "  <thead>\n",
              "    <tr style=\"text-align: right;\">\n",
              "      <th></th>\n",
              "      <th>A</th>\n",
              "      <th>B</th>\n",
              "      <th>C</th>\n",
              "    </tr>\n",
              "  </thead>\n",
              "  <tbody>\n",
              "    <tr>\n",
              "      <th>A</th>\n",
              "      <td>1.000000</td>\n",
              "      <td>-0.001055</td>\n",
              "      <td>0.049286</td>\n",
              "    </tr>\n",
              "    <tr>\n",
              "      <th>B</th>\n",
              "      <td>-0.001055</td>\n",
              "      <td>1.000000</td>\n",
              "      <td>0.060387</td>\n",
              "    </tr>\n",
              "    <tr>\n",
              "      <th>C</th>\n",
              "      <td>0.049286</td>\n",
              "      <td>0.060387</td>\n",
              "      <td>1.000000</td>\n",
              "    </tr>\n",
              "  </tbody>\n",
              "</table>\n",
              "</div>\n",
              "      <button class=\"colab-df-convert\" onclick=\"convertToInteractive('df-2c1e1d95-0895-43a3-bed2-bec6ef42d627')\"\n",
              "              title=\"Convert this dataframe to an interactive table.\"\n",
              "              style=\"display:none;\">\n",
              "        \n",
              "  <svg xmlns=\"http://www.w3.org/2000/svg\" height=\"24px\"viewBox=\"0 0 24 24\"\n",
              "       width=\"24px\">\n",
              "    <path d=\"M0 0h24v24H0V0z\" fill=\"none\"/>\n",
              "    <path d=\"M18.56 5.44l.94 2.06.94-2.06 2.06-.94-2.06-.94-.94-2.06-.94 2.06-2.06.94zm-11 1L8.5 8.5l.94-2.06 2.06-.94-2.06-.94L8.5 2.5l-.94 2.06-2.06.94zm10 10l.94 2.06.94-2.06 2.06-.94-2.06-.94-.94-2.06-.94 2.06-2.06.94z\"/><path d=\"M17.41 7.96l-1.37-1.37c-.4-.4-.92-.59-1.43-.59-.52 0-1.04.2-1.43.59L10.3 9.45l-7.72 7.72c-.78.78-.78 2.05 0 2.83L4 21.41c.39.39.9.59 1.41.59.51 0 1.02-.2 1.41-.59l7.78-7.78 2.81-2.81c.8-.78.8-2.07 0-2.86zM5.41 20L4 18.59l7.72-7.72 1.47 1.35L5.41 20z\"/>\n",
              "  </svg>\n",
              "      </button>\n",
              "      \n",
              "  <style>\n",
              "    .colab-df-container {\n",
              "      display:flex;\n",
              "      flex-wrap:wrap;\n",
              "      gap: 12px;\n",
              "    }\n",
              "\n",
              "    .colab-df-convert {\n",
              "      background-color: #E8F0FE;\n",
              "      border: none;\n",
              "      border-radius: 50%;\n",
              "      cursor: pointer;\n",
              "      display: none;\n",
              "      fill: #1967D2;\n",
              "      height: 32px;\n",
              "      padding: 0 0 0 0;\n",
              "      width: 32px;\n",
              "    }\n",
              "\n",
              "    .colab-df-convert:hover {\n",
              "      background-color: #E2EBFA;\n",
              "      box-shadow: 0px 1px 2px rgba(60, 64, 67, 0.3), 0px 1px 3px 1px rgba(60, 64, 67, 0.15);\n",
              "      fill: #174EA6;\n",
              "    }\n",
              "\n",
              "    [theme=dark] .colab-df-convert {\n",
              "      background-color: #3B4455;\n",
              "      fill: #D2E3FC;\n",
              "    }\n",
              "\n",
              "    [theme=dark] .colab-df-convert:hover {\n",
              "      background-color: #434B5C;\n",
              "      box-shadow: 0px 1px 3px 1px rgba(0, 0, 0, 0.15);\n",
              "      filter: drop-shadow(0px 1px 2px rgba(0, 0, 0, 0.3));\n",
              "      fill: #FFFFFF;\n",
              "    }\n",
              "  </style>\n",
              "\n",
              "      <script>\n",
              "        const buttonEl =\n",
              "          document.querySelector('#df-2c1e1d95-0895-43a3-bed2-bec6ef42d627 button.colab-df-convert');\n",
              "        buttonEl.style.display =\n",
              "          google.colab.kernel.accessAllowed ? 'block' : 'none';\n",
              "\n",
              "        async function convertToInteractive(key) {\n",
              "          const element = document.querySelector('#df-2c1e1d95-0895-43a3-bed2-bec6ef42d627');\n",
              "          const dataTable =\n",
              "            await google.colab.kernel.invokeFunction('convertToInteractive',\n",
              "                                                     [key], {});\n",
              "          if (!dataTable) return;\n",
              "\n",
              "          const docLinkHtml = 'Like what you see? Visit the ' +\n",
              "            '<a target=\"_blank\" href=https://colab.research.google.com/notebooks/data_table.ipynb>data table notebook</a>'\n",
              "            + ' to learn more about interactive tables.';\n",
              "          element.innerHTML = '';\n",
              "          dataTable['output_type'] = 'display_data';\n",
              "          await google.colab.output.renderOutput(dataTable, element);\n",
              "          const docLink = document.createElement('div');\n",
              "          docLink.innerHTML = docLinkHtml;\n",
              "          element.appendChild(docLink);\n",
              "        }\n",
              "      </script>\n",
              "    </div>\n",
              "  </div>\n",
              "  "
            ]
          },
          "metadata": {},
          "execution_count": 10
        }
      ]
    },
    {
      "cell_type": "markdown",
      "source": [
        "**Heatmap check**"
      ],
      "metadata": {
        "id": "VonZ0_e41C5b"
      },
      "id": "VonZ0_e41C5b"
    },
    {
      "cell_type": "code",
      "execution_count": 11,
      "id": "b95b3ce2",
      "metadata": {
        "id": "b95b3ce2",
        "outputId": "878bbe40-fff4-4f4a-e531-58270caf509c",
        "colab": {
          "base_uri": "https://localhost:8080/",
          "height": 286
        }
      },
      "outputs": [
        {
          "output_type": "execute_result",
          "data": {
            "text/plain": [
              "<matplotlib.axes._subplots.AxesSubplot at 0x7f379ee7d5d0>"
            ]
          },
          "metadata": {},
          "execution_count": 11
        },
        {
          "output_type": "display_data",
          "data": {
            "text/plain": [
              "<Figure size 432x288 with 2 Axes>"
            ],
            "image/png": "[encoded data removed]"
          },
          "metadata": {
            "needs_background": "light"
          }
        }
      ],
      "source": [
        "sns.heatmap(data = df.iloc[:,0:3].corr(),annot=True)"
      ]
    },
    {
      "cell_type": "markdown",
      "id": "4306c0a6",
      "metadata": {
        "id": "4306c0a6"
      },
      "source": [
        "### **3. Normality of Residual**\n",
        "* The residual errors should be normally distributed"
      ]
    },
    {
      "cell_type": "markdown",
      "source": [
        "**Normal Distribution check using distplot**"
      ],
      "metadata": {
        "id": "TeGIw7Qe1aKy"
      },
      "id": "TeGIw7Qe1aKy"
    },
    {
      "cell_type": "code",
      "execution_count": 12,
      "id": "c5b7a6e0",
      "metadata": {
        "id": "c5b7a6e0",
        "outputId": "d72ad927-e9fd-4925-87af-e8729de710b6",
        "colab": {
          "base_uri": "https://localhost:8080/",
          "height": 404
        }
      },
      "outputs": [
        {
          "output_type": "execute_result",
          "data": {
            "text/plain": [
              "<seaborn.axisgrid.FacetGrid at 0x7f379ede1390>"
            ]
          },
          "metadata": {},
          "execution_count": 12
        },
        {
          "output_type": "display_data",
          "data": {
            "text/plain": [
              "<Figure size 720x360 with 0 Axes>"
            ]
          },
          "metadata": {}
        },
        {
          "output_type": "display_data",
          "data": {
            "text/plain": [
              "<Figure size 360x360 with 1 Axes>"
            ],
            "image/png": "[encoded data removed]"
          },
          "metadata": {
            "needs_background": "light"
          }
        }
      ],
      "source": [
        "plt.figure(figsize=(10,5))\n",
        "sns.displot(residual,kind='kde')"
      ]
    },
    {
      "cell_type": "markdown",
      "source": [
        "**Normal distribution check using QQ plot**"
      ],
      "metadata": {
        "id": "KRyd3WGs1hGa"
      },
      "id": "KRyd3WGs1hGa"
    },
    {
      "cell_type": "code",
      "execution_count": 13,
      "id": "bfe4ac9f",
      "metadata": {
        "id": "bfe4ac9f",
        "outputId": "038c3dda-22e4-409d-947d-64b6dda8b8df",
        "colab": {
          "base_uri": "https://localhost:8080/",
          "height": 295
        }
      },
      "outputs": [
        {
          "output_type": "display_data",
          "data": {
            "text/plain": [
              "<Figure size 432x288 with 1 Axes>"
            ],
            "image/png": "[encoded data removed]"
          },
          "metadata": {
            "needs_background": "light"
          }
        }
      ],
      "source": [
        "import scipy as sp\n",
        "fig, ax = plt.subplots(figsize=(6,4))\n",
        "sp.stats.probplot(residual, plot=ax, fit=True)\n",
        "plt.show()"
      ]
    },
    {
      "cell_type": "markdown",
      "id": "7ad1c34d",
      "metadata": {
        "id": "7ad1c34d"
      },
      "source": [
        "### **4. Homoscedasticity**\n",
        "*  The residual errors should be of a constant variance at any value of independent variables"
      ]
    },
    {
      "cell_type": "code",
      "execution_count": 14,
      "id": "b1403aca",
      "metadata": {
        "id": "b1403aca",
        "outputId": "e11ba553-34a8-4834-e5c2-4c101195d10b",
        "colab": {
          "base_uri": "https://localhost:8080/",
          "height": 351
        }
      },
      "outputs": [
        {
          "output_type": "stream",
          "name": "stderr",
          "text": [
            "/usr/local/lib/python3.7/dist-packages/seaborn/_decorators.py:43: FutureWarning: Pass the following variables as keyword args: x, y. From version 0.12, the only valid positional argument will be `data`, and passing other arguments without an explicit keyword will result in an error or misinterpretation.\n",
            "  FutureWarning\n"
          ]
        },
        {
          "output_type": "execute_result",
          "data": {
            "text/plain": [
              "Text(0, 0.5, 'Residuals')"
            ]
          },
          "metadata": {},
          "execution_count": 14
        },
        {
          "output_type": "display_data",
          "data": {
            "text/plain": [
              "<Figure size 432x288 with 1 Axes>"
            ],
            "image/png": "[encoded data removed]"
          },
          "metadata": {
            "needs_background": "light"
          }
        }
      ],
      "source": [
        "# plt.scatter(y_pred,residual)\n",
        "sns.scatterplot(y_pred, residual)\n",
        "plt.xlabel(\"Predicted Values\")\n",
        "plt.ylabel(\"Residuals\")"
      ]
    },
    {
      "cell_type": "markdown",
      "id": "3ec616c8",
      "metadata": {
        "id": "3ec616c8"
      },
      "source": [
        "### **5. Autocorrelation of Residuals**\n",
        "* No auto-correlation between the residuals"
      ]
    },
    {
      "cell_type": "code",
      "execution_count": 15,
      "id": "b9194839",
      "metadata": {
        "id": "b9194839",
        "outputId": "864ca023-4288-4157-c4cf-4fd30205091e",
        "colab": {
          "base_uri": "https://localhost:8080/",
          "height": 282
        }
      },
      "outputs": [
        {
          "output_type": "execute_result",
          "data": {
            "text/plain": [
              "[<matplotlib.lines.Line2D at 0x7f379ebfea90>]"
            ]
          },
          "metadata": {},
          "execution_count": 15
        },
        {
          "output_type": "display_data",
          "data": {
            "text/plain": [
              "<Figure size 432x288 with 1 Axes>"
            ],
            "image/png": "[encoded data removed]"
          },
          "metadata": {
            "needs_background": "light"
          }
        }
      ],
      "source": [
        "plt.plot(residual)"
      ]
    },
    {
      "cell_type": "markdown",
      "source": [
        "# **<center>THE END</center>**"
      ],
      "metadata": {
        "id": "Z8Lwm3sN2oiR"
      },
      "id": "Z8Lwm3sN2oiR"
    }
  ],
  "metadata": {
    "kernelspec": {
      "display_name": "Python 3 (ipykernel)",
      "language": "python",
      "name": "python3"
    },
    "language_info": {
      "codemirror_mode": {
        "name": "ipython",
        "version": 3
      },
      "file_extension": ".py",
      "mimetype": "text/x-python",
      "name": "python",
      "nbconvert_exporter": "python",
      "pygments_lexer": "ipython3",
      "version": "3.9.7"
    },
    "colab": {
      "provenance": [],
      "collapsed_sections": []
    }
  },
  "nbformat": 4,
  "nbformat_minor": 5
}