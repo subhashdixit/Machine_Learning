{
  "cells": [
    {
      "cell_type": "markdown",
      "metadata": {
        "id": "u5bqpKKk6Xz5"
      },
      "source": [
        "### Select the Right Threshold values using ROC Curve"
      ]
    },
    {
      "cell_type": "markdown",
      "source": [
        "**Import required libraries**"
      ],
      "metadata": {
        "id": "DTVSmfF__xK4"
      }
    },
    {
      "cell_type": "code",
      "execution_count": 1,
      "metadata": {
        "id": "KPO2sS4m6Xz9"
      },
      "outputs": [],
      "source": [
        "import numpy as np\n",
        "import pandas as pd\n",
        "import matplotlib.pyplot as plt\n",
        "import seaborn as sns\n",
        "from sklearn.datasets import make_classification\n",
        "from sklearn.model_selection import train_test_split\n",
        "from sklearn.ensemble import RandomForestClassifier\n",
        "from sklearn.linear_model import LogisticRegression\n",
        "from sklearn.ensemble import AdaBoostClassifier\n",
        "from sklearn.neighbors import KNeighborsClassifier\n",
        "from sklearn.metrics import accuracy_score, confusion_matrix, roc_curve, roc_auc_score\n",
        "%matplotlib inline"
      ]
    },
    {
      "cell_type": "markdown",
      "source": [
        "* make_classification will randomly generate classification problems dataset"
      ],
      "metadata": {
        "id": "0cxmE6va7YCZ"
      }
    },
    {
      "cell_type": "markdown",
      "source": [
        "**Binary Classfication Dataset**"
      ],
      "metadata": {
        "id": "lgRKyI9a7k-B"
      }
    },
    {
      "cell_type": "markdown",
      "source": [
        "**Create Dataset**"
      ],
      "metadata": {
        "id": "UxHK3OJC9L7j"
      }
    },
    {
      "cell_type": "code",
      "execution_count": 2,
      "metadata": {
        "id": "NMQ_KjRt6Xz-"
      },
      "outputs": [],
      "source": [
        "X, y = make_classification(n_samples=2000, n_classes=2, weights=[1,1], random_state=1)"
      ]
    },
    {
      "cell_type": "markdown",
      "source": [
        "**Shape of the dataset**"
      ],
      "metadata": {
        "id": "H9OgfZqL9Nj5"
      }
    },
    {
      "cell_type": "code",
      "execution_count": 3,
      "metadata": {
        "colab": {
          "base_uri": "https://localhost:8080/"
        },
        "id": "u6yKlbec6Xz_",
        "outputId": "4343819a-69d0-4fff-9cc8-dc6af7aafb8d"
      },
      "outputs": [
        {
          "output_type": "execute_result",
          "data": {
            "text/plain": [
              "(2000, 20)"
            ]
          },
          "metadata": {},
          "execution_count": 3
        }
      ],
      "source": [
        "X.shape"
      ]
    },
    {
      "cell_type": "code",
      "execution_count": 4,
      "metadata": {
        "colab": {
          "base_uri": "https://localhost:8080/"
        },
        "id": "bBhbKNxe6Xz_",
        "outputId": "36234720-51d8-4486-d697-a0444112faaa"
      },
      "outputs": [
        {
          "output_type": "execute_result",
          "data": {
            "text/plain": [
              "array([0, 0, 0, ..., 1, 1, 0])"
            ]
          },
          "metadata": {},
          "execution_count": 4
        }
      ],
      "source": [
        "y"
      ]
    },
    {
      "cell_type": "markdown",
      "source": [
        "**Train Test Split**"
      ],
      "metadata": {
        "id": "9eCLH_CG9Qqq"
      }
    },
    {
      "cell_type": "code",
      "execution_count": 5,
      "metadata": {
        "id": "IvzalOpW6Xz_"
      },
      "outputs": [],
      "source": [
        "X_train,X_test,y_train,y_test = train_test_split(X, y, test_size=0.3, random_state=1)"
      ]
    },
    {
      "cell_type": "markdown",
      "source": [
        "# **Model Creation**"
      ],
      "metadata": {
        "id": "Pt_dhKIf9Taq"
      }
    },
    {
      "cell_type": "markdown",
      "metadata": {
        "id": "X-itcmg96X0A"
      },
      "source": [
        "## **Random Forests**"
      ]
    },
    {
      "cell_type": "code",
      "execution_count": 6,
      "metadata": {
        "id": "68jlphK-6X0A"
      },
      "outputs": [],
      "source": [
        "## Apply RandomForestClassifier\n",
        "rf_model = RandomForestClassifier()\n",
        "rf_model.fit(X_train, y_train)\n",
        "ytrain_pred = rf_model.predict_proba(X_train)\n",
        "ytest_pred = rf_model.predict_proba(X_test)"
      ]
    },
    {
      "cell_type": "markdown",
      "source": [
        "**ROC-AUC**"
      ],
      "metadata": {
        "id": "lbBqj6q7__Zv"
      }
    },
    {
      "cell_type": "code",
      "source": [
        "print('RF train roc-auc: {}'.format(roc_auc_score(y_train, ytrain_pred[:,1])))\n",
        "print('RF test roc-auc: {}'.format(roc_auc_score(y_test, ytest_pred[:,1])))"
      ],
      "metadata": {
        "colab": {
          "base_uri": "https://localhost:8080/"
        },
        "id": "imgJu3TdAHEI",
        "outputId": "1a547478-fb8a-4918-b3cf-4f92c618f06f"
      },
      "execution_count": 7,
      "outputs": [
        {
          "output_type": "stream",
          "name": "stdout",
          "text": [
            "RF train roc-auc: 1.0\n",
            "RF test roc-auc: 0.9838222222222223\n"
          ]
        }
      ]
    },
    {
      "cell_type": "markdown",
      "metadata": {
        "id": "69Hr17Gd6X0B"
      },
      "source": [
        "## **Logistic Regression**"
      ]
    },
    {
      "cell_type": "code",
      "execution_count": 8,
      "metadata": {
        "id": "ibjOqWgg6X0B"
      },
      "outputs": [],
      "source": [
        "log_classifier=LogisticRegression()\n",
        "log_classifier.fit(X_train, y_train)\n",
        "ytrain_pred = log_classifier.predict_proba(X_train)\n",
        "ytest_pred = log_classifier.predict_proba(X_test)"
      ]
    },
    {
      "cell_type": "markdown",
      "source": [
        "**ROC-AUC**"
      ],
      "metadata": {
        "id": "Tayp7NAIAiSt"
      }
    },
    {
      "cell_type": "code",
      "source": [
        "print('Logistic train roc-auc: {}'.format(roc_auc_score(y_train, ytrain_pred[:,1])))\n",
        "print('Logistic test roc-auc: {}'.format(roc_auc_score(y_test, ytest_pred[:,1])))"
      ],
      "metadata": {
        "colab": {
          "base_uri": "https://localhost:8080/"
        },
        "id": "b2cai6IoAkAw",
        "outputId": "eb8f0228-4ed8-45ea-ca71-793c0611d58c"
      },
      "execution_count": 9,
      "outputs": [
        {
          "output_type": "stream",
          "name": "stdout",
          "text": [
            "Logistic train roc-auc: 0.9863568922694498\n",
            "Logistic test roc-auc: 0.9885777777777777\n"
          ]
        }
      ]
    },
    {
      "cell_type": "markdown",
      "source": [
        "Higher the area, better the model"
      ],
      "metadata": {
        "id": "1Ok8ucmR8_SC"
      }
    },
    {
      "cell_type": "markdown",
      "metadata": {
        "id": "IYAt9WUv6X0B"
      },
      "source": [
        "## **Adaboost Classifier**"
      ]
    },
    {
      "cell_type": "code",
      "execution_count": 10,
      "metadata": {
        "id": "famSd4pF6X0C"
      },
      "outputs": [],
      "source": [
        "ada_classifier=AdaBoostClassifier()\n",
        "ada_classifier.fit(X_train, y_train)\n",
        "ytrain_pred = ada_classifier.predict_proba(X_train)\n",
        "ytest_pred = ada_classifier.predict_proba(X_test)"
      ]
    },
    {
      "cell_type": "markdown",
      "source": [
        "**ROC-AUC**"
      ],
      "metadata": {
        "id": "JmAXdLGBA78l"
      }
    },
    {
      "cell_type": "code",
      "source": [
        "print('Adaboost train roc-auc: {}'.format(roc_auc_score(y_train, ytrain_pred[:,1])))\n",
        "print('Adaboost test roc-auc: {}'.format(roc_auc_score(y_test, ytest_pred[:,1])))"
      ],
      "metadata": {
        "colab": {
          "base_uri": "https://localhost:8080/"
        },
        "id": "GamtIO_FA4RZ",
        "outputId": "989232a4-36f1-43a8-d450-8595b6217852"
      },
      "execution_count": 11,
      "outputs": [
        {
          "output_type": "stream",
          "name": "stdout",
          "text": [
            "Adaboost train roc-auc: 0.9975081174960356\n",
            "Adaboost test roc-auc: 0.9826111111111111\n"
          ]
        }
      ]
    },
    {
      "cell_type": "markdown",
      "metadata": {
        "id": "f1op0y6J6X0C"
      },
      "source": [
        "## **KNNClassifier**"
      ]
    },
    {
      "cell_type": "code",
      "execution_count": 12,
      "metadata": {
        "id": "8Mnc3yOR6X0C"
      },
      "outputs": [],
      "source": [
        "knn_classifier=KNeighborsClassifier()\n",
        "knn_classifier.fit(X_train, y_train)\n",
        "ytrain_pred = knn_classifier.predict_proba(X_train)\n",
        "ytest_pred = knn_classifier.predict_proba(X_test)"
      ]
    },
    {
      "cell_type": "markdown",
      "source": [
        "**ROC-AUC**"
      ],
      "metadata": {
        "id": "sd90u_yqBDdC"
      }
    },
    {
      "cell_type": "code",
      "source": [
        "print('Adaboost train roc-auc: {}'.format(roc_auc_score(y_train, ytrain_pred[:,1])))\n",
        "print('Adaboost test roc-auc: {}'.format(roc_auc_score(y_test, ytest_pred[:,1])))"
      ],
      "metadata": {
        "colab": {
          "base_uri": "https://localhost:8080/"
        },
        "id": "rosi_kjxBD_p",
        "outputId": "9e12534b-7739-4db0-d873-10d94f787f65"
      },
      "execution_count": 13,
      "outputs": [
        {
          "output_type": "stream",
          "name": "stdout",
          "text": [
            "Adaboost train roc-auc: 0.981670071491109\n",
            "Adaboost test roc-auc: 0.9426111111111111\n"
          ]
        }
      ]
    },
    {
      "cell_type": "markdown",
      "metadata": {
        "id": "YE_3OdFW6X0C"
      },
      "source": [
        "# **Select the best threshold for maximum accuracy**"
      ]
    },
    {
      "cell_type": "code",
      "execution_count": 14,
      "metadata": {
        "colab": {
          "base_uri": "https://localhost:8080/"
        },
        "id": "YR8r06Ro6X0D",
        "outputId": "4f85d66a-5be9-4670-ad43-b111ab1c804e"
      },
      "outputs": [
        {
          "output_type": "stream",
          "name": "stdout",
          "text": [
            "test roc-auc: 0.9851333333333333\n"
          ]
        }
      ],
      "source": [
        "pred=[]\n",
        "for model in [rf_model,log_classifier,ada_classifier,knn_classifier]:\n",
        "    pred.append(pd.Series(model.predict_proba(X_test)[:,1]))\n",
        "final_prediction=pd.concat(pred,axis=1).mean(axis=1)\n",
        "print('test roc-auc: {}'.format(roc_auc_score(y_test,final_prediction)))"
      ]
    },
    {
      "cell_type": "markdown",
      "source": [
        "## **Calculate FPR, TPR and Thresholds**"
      ],
      "metadata": {
        "id": "r_tMCfaLBckS"
      }
    },
    {
      "cell_type": "code",
      "execution_count": 15,
      "metadata": {
        "id": "WDjjntVz6X0D"
      },
      "outputs": [],
      "source": [
        "fpr, tpr, thresholds = roc_curve(y_test, final_prediction)"
      ]
    },
    {
      "cell_type": "markdown",
      "source": [
        "## **Calculate Acuuracy, FPR and TPR for each Thresholds**"
      ],
      "metadata": {
        "id": "jFpL88z0Bm-g"
      }
    },
    {
      "cell_type": "code",
      "execution_count": 16,
      "metadata": {
        "colab": {
          "base_uri": "https://localhost:8080/",
          "height": 1000
        },
        "id": "oibkMLoc6X0E",
        "outputId": "e5e313ce-0a78-4451-887c-af6308bbef18"
      },
      "outputs": [
        {
          "output_type": "stream",
          "name": "stderr",
          "text": [
            "/usr/local/lib/python3.7/dist-packages/ipykernel_launcher.py:14: RuntimeWarning: invalid value encountered in long_scalars\n",
            "  \n",
            "/usr/local/lib/python3.7/dist-packages/ipykernel_launcher.py:14: RuntimeWarning: invalid value encountered in long_scalars\n",
            "  \n"
          ]
        },
        {
          "output_type": "execute_result",
          "data": {
            "text/plain": [
              "    thresholds  accuracy       TPR       FPR\n",
              "31    0.442228  0.961667  0.975945  0.051780\n",
              "32    0.434603  0.960000  0.975862  0.054839\n",
              "30    0.449506  0.960000  0.972603  0.051948\n",
              "29    0.471169  0.960000  0.969388  0.049020\n",
              "26    0.541059  0.960000  0.960000  0.040000\n",
              "28    0.472402  0.958333  0.966102  0.049180\n",
              "27    0.526279  0.958333  0.962963  0.046205\n",
              "25    0.573004  0.956667  0.950658  0.037162\n",
              "24    0.573090  0.955000  0.947541  0.037288\n",
              "33    0.389348  0.948333  0.978648  0.078370\n",
              "23    0.577362  0.946667  0.929487  0.034722\n",
              "34    0.388797  0.946667  0.978571  0.081250\n",
              "19    0.596143  0.945000  0.921136  0.028269\n",
              "22    0.583277  0.945000  0.926518  0.034843\n",
              "21    0.586754  0.945000  0.923810  0.031579\n",
              "35    0.353073  0.943333  0.981884  0.089506\n",
              "18    0.615300  0.943333  0.918239  0.028369\n",
              "20    0.591564  0.943333  0.920886  0.031690\n",
              "36    0.350866  0.941667  0.981818  0.092308\n",
              "17    0.664935  0.936667  0.904321  0.025362\n",
              "16    0.666477  0.935000  0.901538  0.025455\n",
              "15    0.701374  0.923333  0.880240  0.022556\n",
              "14    0.702881  0.921667  0.877612  0.022642\n",
              "13    0.723937  0.910000  0.857558  0.019531\n",
              "12    0.724075  0.908333  0.855072  0.019608\n",
              "37    0.236984  0.878333  0.982979  0.189041\n",
              "38    0.236404  0.876667  0.982906  0.191257\n",
              "11    0.762871  0.860000  0.787234  0.017857\n",
              "10    0.764745  0.858333  0.785146  0.017937\n",
              "39    0.220051  0.856667  0.986364  0.218421\n",
              "40    0.218969  0.855000  0.986301  0.220472\n",
              "41    0.212131  0.850000  0.990654  0.227979\n",
              "42    0.205984  0.848333  0.990610  0.229974\n",
              "9     0.783212  0.831667  0.751899  0.014634\n",
              "8     0.784852  0.830000  0.750000  0.014706\n",
              "7     0.798056  0.820000  0.737624  0.010204\n",
              "6     0.799524  0.818333  0.735802  0.010256\n",
              "5     0.801628  0.816667  0.732843  0.005208\n",
              "4     0.801999  0.815000  0.731051  0.005236\n",
              "43    0.122835  0.666667  0.990196  0.399598\n",
              "44    0.122835  0.665000  0.990099  0.400802\n",
              "3     0.905775  0.511667  0.505902  0.000000\n",
              "2     0.906233  0.510000  0.505051  0.000000\n",
              "45    0.105484  0.501667  1.000000  0.499165\n",
              "1     0.911881  0.500000  0.500000       NaN\n",
              "0     1.911881  0.500000  0.500000       NaN"
            ],
            "text/html": [
              "\n",
              "  <div id=\"df-238ef15a-1ec7-42d5-ad55-9951f222046e\">\n",
              "    <div class=\"colab-df-container\">\n",
              "      <div>\n",
              "<style scoped>\n",
              "    .dataframe tbody tr th:only-of-type {\n",
              "        vertical-align: middle;\n",
              "    }\n",
              "\n",
              "    .dataframe tbody tr th {\n",
              "        vertical-align: top;\n",
              "    }\n",
              "\n",
              "    .dataframe thead th {\n",
              "        text-align: right;\n",
              "    }\n",
              "</style>\n",
              "<table border=\"1\" class=\"dataframe\">\n",
              "  <thead>\n",
              "    <tr style=\"text-align: right;\">\n",
              "      <th></th>\n",
              "      <th>thresholds</th>\n",
              "      <th>accuracy</th>\n",
              "      <th>TPR</th>\n",
              "      <th>FPR</th>\n",
              "    </tr>\n",
              "  </thead>\n",
              "  <tbody>\n",
              "    <tr>\n",
              "      <th>31</th>\n",
              "      <td>0.442228</td>\n",
              "      <td>0.961667</td>\n",
              "      <td>0.975945</td>\n",
              "      <td>0.051780</td>\n",
              "    </tr>\n",
              "    <tr>\n",
              "      <th>32</th>\n",
              "      <td>0.434603</td>\n",
              "      <td>0.960000</td>\n",
              "      <td>0.975862</td>\n",
              "      <td>0.054839</td>\n",
              "    </tr>\n",
              "    <tr>\n",
              "      <th>30</th>\n",
              "      <td>0.449506</td>\n",
              "      <td>0.960000</td>\n",
              "      <td>0.972603</td>\n",
              "      <td>0.051948</td>\n",
              "    </tr>\n",
              "    <tr>\n",
              "      <th>29</th>\n",
              "      <td>0.471169</td>\n",
              "      <td>0.960000</td>\n",
              "      <td>0.969388</td>\n",
              "      <td>0.049020</td>\n",
              "    </tr>\n",
              "    <tr>\n",
              "      <th>26</th>\n",
              "      <td>0.541059</td>\n",
              "      <td>0.960000</td>\n",
              "      <td>0.960000</td>\n",
              "      <td>0.040000</td>\n",
              "    </tr>\n",
              "    <tr>\n",
              "      <th>28</th>\n",
              "      <td>0.472402</td>\n",
              "      <td>0.958333</td>\n",
              "      <td>0.966102</td>\n",
              "      <td>0.049180</td>\n",
              "    </tr>\n",
              "    <tr>\n",
              "      <th>27</th>\n",
              "      <td>0.526279</td>\n",
              "      <td>0.958333</td>\n",
              "      <td>0.962963</td>\n",
              "      <td>0.046205</td>\n",
              "    </tr>\n",
              "    <tr>\n",
              "      <th>25</th>\n",
              "      <td>0.573004</td>\n",
              "      <td>0.956667</td>\n",
              "      <td>0.950658</td>\n",
              "      <td>0.037162</td>\n",
              "    </tr>\n",
              "    <tr>\n",
              "      <th>24</th>\n",
              "      <td>0.573090</td>\n",
              "      <td>0.955000</td>\n",
              "      <td>0.947541</td>\n",
              "      <td>0.037288</td>\n",
              "    </tr>\n",
              "    <tr>\n",
              "      <th>33</th>\n",
              "      <td>0.389348</td>\n",
              "      <td>0.948333</td>\n",
              "      <td>0.978648</td>\n",
              "      <td>0.078370</td>\n",
              "    </tr>\n",
              "    <tr>\n",
              "      <th>23</th>\n",
              "      <td>0.577362</td>\n",
              "      <td>0.946667</td>\n",
              "      <td>0.929487</td>\n",
              "      <td>0.034722</td>\n",
              "    </tr>\n",
              "    <tr>\n",
              "      <th>34</th>\n",
              "      <td>0.388797</td>\n",
              "      <td>0.946667</td>\n",
              "      <td>0.978571</td>\n",
              "      <td>0.081250</td>\n",
              "    </tr>\n",
              "    <tr>\n",
              "      <th>19</th>\n",
              "      <td>0.596143</td>\n",
              "      <td>0.945000</td>\n",
              "      <td>0.921136</td>\n",
              "      <td>0.028269</td>\n",
              "    </tr>\n",
              "    <tr>\n",
              "      <th>22</th>\n",
              "      <td>0.583277</td>\n",
              "      <td>0.945000</td>\n",
              "      <td>0.926518</td>\n",
              "      <td>0.034843</td>\n",
              "    </tr>\n",
              "    <tr>\n",
              "      <th>21</th>\n",
              "      <td>0.586754</td>\n",
              "      <td>0.945000</td>\n",
              "      <td>0.923810</td>\n",
              "      <td>0.031579</td>\n",
              "    </tr>\n",
              "    <tr>\n",
              "      <th>35</th>\n",
              "      <td>0.353073</td>\n",
              "      <td>0.943333</td>\n",
              "      <td>0.981884</td>\n",
              "      <td>0.089506</td>\n",
              "    </tr>\n",
              "    <tr>\n",
              "      <th>18</th>\n",
              "      <td>0.615300</td>\n",
              "      <td>0.943333</td>\n",
              "      <td>0.918239</td>\n",
              "      <td>0.028369</td>\n",
              "    </tr>\n",
              "    <tr>\n",
              "      <th>20</th>\n",
              "      <td>0.591564</td>\n",
              "      <td>0.943333</td>\n",
              "      <td>0.920886</td>\n",
              "      <td>0.031690</td>\n",
              "    </tr>\n",
              "    <tr>\n",
              "      <th>36</th>\n",
              "      <td>0.350866</td>\n",
              "      <td>0.941667</td>\n",
              "      <td>0.981818</td>\n",
              "      <td>0.092308</td>\n",
              "    </tr>\n",
              "    <tr>\n",
              "      <th>17</th>\n",
              "      <td>0.664935</td>\n",
              "      <td>0.936667</td>\n",
              "      <td>0.904321</td>\n",
              "      <td>0.025362</td>\n",
              "    </tr>\n",
              "    <tr>\n",
              "      <th>16</th>\n",
              "      <td>0.666477</td>\n",
              "      <td>0.935000</td>\n",
              "      <td>0.901538</td>\n",
              "      <td>0.025455</td>\n",
              "    </tr>\n",
              "    <tr>\n",
              "      <th>15</th>\n",
              "      <td>0.701374</td>\n",
              "      <td>0.923333</td>\n",
              "      <td>0.880240</td>\n",
              "      <td>0.022556</td>\n",
              "    </tr>\n",
              "    <tr>\n",
              "      <th>14</th>\n",
              "      <td>0.702881</td>\n",
              "      <td>0.921667</td>\n",
              "      <td>0.877612</td>\n",
              "      <td>0.022642</td>\n",
              "    </tr>\n",
              "    <tr>\n",
              "      <th>13</th>\n",
              "      <td>0.723937</td>\n",
              "      <td>0.910000</td>\n",
              "      <td>0.857558</td>\n",
              "      <td>0.019531</td>\n",
              "    </tr>\n",
              "    <tr>\n",
              "      <th>12</th>\n",
              "      <td>0.724075</td>\n",
              "      <td>0.908333</td>\n",
              "      <td>0.855072</td>\n",
              "      <td>0.019608</td>\n",
              "    </tr>\n",
              "    <tr>\n",
              "      <th>37</th>\n",
              "      <td>0.236984</td>\n",
              "      <td>0.878333</td>\n",
              "      <td>0.982979</td>\n",
              "      <td>0.189041</td>\n",
              "    </tr>\n",
              "    <tr>\n",
              "      <th>38</th>\n",
              "      <td>0.236404</td>\n",
              "      <td>0.876667</td>\n",
              "      <td>0.982906</td>\n",
              "      <td>0.191257</td>\n",
              "    </tr>\n",
              "    <tr>\n",
              "      <th>11</th>\n",
              "      <td>0.762871</td>\n",
              "      <td>0.860000</td>\n",
              "      <td>0.787234</td>\n",
              "      <td>0.017857</td>\n",
              "    </tr>\n",
              "    <tr>\n",
              "      <th>10</th>\n",
              "      <td>0.764745</td>\n",
              "      <td>0.858333</td>\n",
              "      <td>0.785146</td>\n",
              "      <td>0.017937</td>\n",
              "    </tr>\n",
              "    <tr>\n",
              "      <th>39</th>\n",
              "      <td>0.220051</td>\n",
              "      <td>0.856667</td>\n",
              "      <td>0.986364</td>\n",
              "      <td>0.218421</td>\n",
              "    </tr>\n",
              "    <tr>\n",
              "      <th>40</th>\n",
              "      <td>0.218969</td>\n",
              "      <td>0.855000</td>\n",
              "      <td>0.986301</td>\n",
              "      <td>0.220472</td>\n",
              "    </tr>\n",
              "    <tr>\n",
              "      <th>41</th>\n",
              "      <td>0.212131</td>\n",
              "      <td>0.850000</td>\n",
              "      <td>0.990654</td>\n",
              "      <td>0.227979</td>\n",
              "    </tr>\n",
              "    <tr>\n",
              "      <th>42</th>\n",
              "      <td>0.205984</td>\n",
              "      <td>0.848333</td>\n",
              "      <td>0.990610</td>\n",
              "      <td>0.229974</td>\n",
              "    </tr>\n",
              "    <tr>\n",
              "      <th>9</th>\n",
              "      <td>0.783212</td>\n",
              "      <td>0.831667</td>\n",
              "      <td>0.751899</td>\n",
              "      <td>0.014634</td>\n",
              "    </tr>\n",
              "    <tr>\n",
              "      <th>8</th>\n",
              "      <td>0.784852</td>\n",
              "      <td>0.830000</td>\n",
              "      <td>0.750000</td>\n",
              "      <td>0.014706</td>\n",
              "    </tr>\n",
              "    <tr>\n",
              "      <th>7</th>\n",
              "      <td>0.798056</td>\n",
              "      <td>0.820000</td>\n",
              "      <td>0.737624</td>\n",
              "      <td>0.010204</td>\n",
              "    </tr>\n",
              "    <tr>\n",
              "      <th>6</th>\n",
              "      <td>0.799524</td>\n",
              "      <td>0.818333</td>\n",
              "      <td>0.735802</td>\n",
              "      <td>0.010256</td>\n",
              "    </tr>\n",
              "    <tr>\n",
              "      <th>5</th>\n",
              "      <td>0.801628</td>\n",
              "      <td>0.816667</td>\n",
              "      <td>0.732843</td>\n",
              "      <td>0.005208</td>\n",
              "    </tr>\n",
              "    <tr>\n",
              "      <th>4</th>\n",
              "      <td>0.801999</td>\n",
              "      <td>0.815000</td>\n",
              "      <td>0.731051</td>\n",
              "      <td>0.005236</td>\n",
              "    </tr>\n",
              "    <tr>\n",
              "      <th>43</th>\n",
              "      <td>0.122835</td>\n",
              "      <td>0.666667</td>\n",
              "      <td>0.990196</td>\n",
              "      <td>0.399598</td>\n",
              "    </tr>\n",
              "    <tr>\n",
              "      <th>44</th>\n",
              "      <td>0.122835</td>\n",
              "      <td>0.665000</td>\n",
              "      <td>0.990099</td>\n",
              "      <td>0.400802</td>\n",
              "    </tr>\n",
              "    <tr>\n",
              "      <th>3</th>\n",
              "      <td>0.905775</td>\n",
              "      <td>0.511667</td>\n",
              "      <td>0.505902</td>\n",
              "      <td>0.000000</td>\n",
              "    </tr>\n",
              "    <tr>\n",
              "      <th>2</th>\n",
              "      <td>0.906233</td>\n",
              "      <td>0.510000</td>\n",
              "      <td>0.505051</td>\n",
              "      <td>0.000000</td>\n",
              "    </tr>\n",
              "    <tr>\n",
              "      <th>45</th>\n",
              "      <td>0.105484</td>\n",
              "      <td>0.501667</td>\n",
              "      <td>1.000000</td>\n",
              "      <td>0.499165</td>\n",
              "    </tr>\n",
              "    <tr>\n",
              "      <th>1</th>\n",
              "      <td>0.911881</td>\n",
              "      <td>0.500000</td>\n",
              "      <td>0.500000</td>\n",
              "      <td>NaN</td>\n",
              "    </tr>\n",
              "    <tr>\n",
              "      <th>0</th>\n",
              "      <td>1.911881</td>\n",
              "      <td>0.500000</td>\n",
              "      <td>0.500000</td>\n",
              "      <td>NaN</td>\n",
              "    </tr>\n",
              "  </tbody>\n",
              "</table>\n",
              "</div>\n",
              "      <button class=\"colab-df-convert\" onclick=\"convertToInteractive('df-238ef15a-1ec7-42d5-ad55-9951f222046e')\"\n",
              "              title=\"Convert this dataframe to an interactive table.\"\n",
              "              style=\"display:none;\">\n",
              "        \n",
              "  <svg xmlns=\"http://www.w3.org/2000/svg\" height=\"24px\"viewBox=\"0 0 24 24\"\n",
              "       width=\"24px\">\n",
              "    <path d=\"M0 0h24v24H0V0z\" fill=\"none\"/>\n",
              "    <path d=\"M18.56 5.44l.94 2.06.94-2.06 2.06-.94-2.06-.94-.94-2.06-.94 2.06-2.06.94zm-11 1L8.5 8.5l.94-2.06 2.06-.94-2.06-.94L8.5 2.5l-.94 2.06-2.06.94zm10 10l.94 2.06.94-2.06 2.06-.94-2.06-.94-.94-2.06-.94 2.06-2.06.94z\"/><path d=\"M17.41 7.96l-1.37-1.37c-.4-.4-.92-.59-1.43-.59-.52 0-1.04.2-1.43.59L10.3 9.45l-7.72 7.72c-.78.78-.78 2.05 0 2.83L4 21.41c.39.39.9.59 1.41.59.51 0 1.02-.2 1.41-.59l7.78-7.78 2.81-2.81c.8-.78.8-2.07 0-2.86zM5.41 20L4 18.59l7.72-7.72 1.47 1.35L5.41 20z\"/>\n",
              "  </svg>\n",
              "      </button>\n",
              "      \n",
              "  <style>\n",
              "    .colab-df-container {\n",
              "      display:flex;\n",
              "      flex-wrap:wrap;\n",
              "      gap: 12px;\n",
              "    }\n",
              "\n",
              "    .colab-df-convert {\n",
              "      background-color: #E8F0FE;\n",
              "      border: none;\n",
              "      border-radius: 50%;\n",
              "      cursor: pointer;\n",
              "      display: none;\n",
              "      fill: #1967D2;\n",
              "      height: 32px;\n",
              "      padding: 0 0 0 0;\n",
              "      width: 32px;\n",
              "    }\n",
              "\n",
              "    .colab-df-convert:hover {\n",
              "      background-color: #E2EBFA;\n",
              "      box-shadow: 0px 1px 2px rgba(60, 64, 67, 0.3), 0px 1px 3px 1px rgba(60, 64, 67, 0.15);\n",
              "      fill: #174EA6;\n",
              "    }\n",
              "\n",
              "    [theme=dark] .colab-df-convert {\n",
              "      background-color: #3B4455;\n",
              "      fill: #D2E3FC;\n",
              "    }\n",
              "\n",
              "    [theme=dark] .colab-df-convert:hover {\n",
              "      background-color: #434B5C;\n",
              "      box-shadow: 0px 1px 3px 1px rgba(0, 0, 0, 0.15);\n",
              "      filter: drop-shadow(0px 1px 2px rgba(0, 0, 0, 0.3));\n",
              "      fill: #FFFFFF;\n",
              "    }\n",
              "  </style>\n",
              "\n",
              "      <script>\n",
              "        const buttonEl =\n",
              "          document.querySelector('#df-238ef15a-1ec7-42d5-ad55-9951f222046e button.colab-df-convert');\n",
              "        buttonEl.style.display =\n",
              "          google.colab.kernel.accessAllowed ? 'block' : 'none';\n",
              "\n",
              "        async function convertToInteractive(key) {\n",
              "          const element = document.querySelector('#df-238ef15a-1ec7-42d5-ad55-9951f222046e');\n",
              "          const dataTable =\n",
              "            await google.colab.kernel.invokeFunction('convertToInteractive',\n",
              "                                                     [key], {});\n",
              "          if (!dataTable) return;\n",
              "\n",
              "          const docLinkHtml = 'Like what you see? Visit the ' +\n",
              "            '<a target=\"_blank\" href=https://colab.research.google.com/notebooks/data_table.ipynb>data table notebook</a>'\n",
              "            + ' to learn more about interactive tables.';\n",
              "          element.innerHTML = '';\n",
              "          dataTable['output_type'] = 'display_data';\n",
              "          await google.colab.output.renderOutput(dataTable, element);\n",
              "          const docLink = document.createElement('div');\n",
              "          docLink.innerHTML = docLinkHtml;\n",
              "          element.appendChild(docLink);\n",
              "        }\n",
              "      </script>\n",
              "    </div>\n",
              "  </div>\n",
              "  "
            ]
          },
          "metadata": {},
          "execution_count": 16
        }
      ],
      "source": [
        "accuracy_ls = []\n",
        "TPR_ls = []\n",
        "FPR_ls = []\n",
        "for thres in thresholds:\n",
        "    y_pred = np.where(final_prediction>thres,1,0)\n",
        "    accuracy_ls.append(accuracy_score(y_test, y_pred, normalize=True))\n",
        "    \n",
        "    conf_mat = confusion_matrix(y_test,y_pred)\n",
        "    true_positive = conf_mat[0][0]\n",
        "    false_positive = conf_mat[0][1]\n",
        "    false_negative = conf_mat[1][0]\n",
        "    true_negative = conf_mat[1][1]\n",
        "    TPR = true_positive/(true_positive + false_negative)\n",
        "    FPR = false_positive/(false_positive + true_negative)\n",
        "    TPR_ls.append(TPR)\n",
        "    FPR_ls.append(FPR)\n",
        "    \n",
        "accuracy_ls = pd.concat([pd.Series(thresholds), pd.Series(accuracy_ls), pd.Series(TPR_ls), pd.Series(FPR_ls) ], axis=1)\n",
        "accuracy_ls.columns = ['thresholds', 'accuracy','TPR', 'FPR']\n",
        "accuracy_ls.sort_values(by='accuracy', ascending=False, inplace=True)\n",
        "accuracy_ls"
      ]
    },
    {
      "cell_type": "markdown",
      "source": [
        "**Plot ROC Curve**"
      ],
      "metadata": {
        "id": "yJUd3RDKgspQ"
      }
    },
    {
      "cell_type": "code",
      "execution_count": 17,
      "metadata": {
        "id": "YN78QMvi6X0E"
      },
      "outputs": [],
      "source": [
        "def plot_roc_curve(fpr, tpr):\n",
        "    plt.plot(fpr, tpr, color='orange', label='ROC')\n",
        "    plt.plot([0, 1], [0, 1], color='darkblue', linestyle='--')\n",
        "    plt.xlabel('False Positive Rate')\n",
        "    plt.ylabel('True Positive Rate')\n",
        "    plt.title('Receiver Operating Characteristic (ROC) Curve')\n",
        "    plt.legend()\n",
        "    plt.show()"
      ]
    },
    {
      "cell_type": "code",
      "execution_count": 18,
      "metadata": {
        "colab": {
          "base_uri": "https://localhost:8080/",
          "height": 295
        },
        "id": "cbZbcrzE6X0E",
        "outputId": "3c0135ed-bc53-4d30-ff25-a91af8409049"
      },
      "outputs": [
        {
          "output_type": "display_data",
          "data": {
            "text/plain": [
              "<Figure size 432x288 with 1 Axes>"
            ],
            "image/png": "[encoded data removed]"
          },
          "metadata": {
            "needs_background": "light"
          }
        }
      ],
      "source": [
        "plot_roc_curve(fpr,tpr)"
      ]
    },
    {
      "cell_type": "markdown",
      "source": [
        "**Observation**\n",
        "* Higher the AUC, better the model\n",
        "* Based on the accuracy score, our best results are:\n",
        "\n",
        "    <table>\n",
        "    <tr>\n",
        "    <th>thresholds</th>\n",
        "    <th>accuracy</th>\n",
        "    <th>TPR</th>\n",
        "    <th>FPR</th>\n",
        "    </tr>\n",
        "    <tr>\n",
        "    <td>0.442949</td>\n",
        "    <td>0.961667</td>\n",
        "    <td>0.975945</td>\n",
        "    <td>0.051780</td>\n",
        "    </tr>\n",
        "    </table>"
      ],
      "metadata": {
        "id": "wwXBS_ikhGHl"
      }
    }
  ],
  "metadata": {
    "kernelspec": {
      "display_name": "Python 3",
      "language": "python",
      "name": "python3"
    },
    "language_info": {
      "codemirror_mode": {
        "name": "ipython",
        "version": 3
      },
      "file_extension": ".py",
      "mimetype": "text/x-python",
      "name": "python",
      "nbconvert_exporter": "python",
      "pygments_lexer": "ipython3",
      "version": "3.6.10"
    },
    "colab": {
      "provenance": []
    }
  },
  "nbformat": 4,
  "nbformat_minor": 0
}